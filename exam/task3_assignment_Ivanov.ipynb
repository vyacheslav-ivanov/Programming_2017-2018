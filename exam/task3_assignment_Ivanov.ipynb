{
 "cells": [
  {
   "cell_type": "markdown",
   "metadata": {},
   "source": [
    "Task: Predict author gender based on Blog Authorship Corpus\n",
    "\n",
    "Columns description:  \n",
    "\n",
    "* gender   = male or female - you have to predict that for test dataset\n",
    "* text  = blogpost text\n",
    "\n",
    "Most of the reviews are in English, but there are a few in other languages.\n",
    "\n",
    "Metric: accuracy  \n",
    "baseline: 0.6423"
   ]
  },
  {
   "cell_type": "code",
   "execution_count": 1,
   "metadata": {},
   "outputs": [],
   "source": [
    "import pandas as pd\n",
    "import numpy as np"
   ]
  },
  {
   "cell_type": "code",
   "execution_count": 10,
   "metadata": {},
   "outputs": [
    {
     "data": {
      "text/html": [
       "<div>\n",
       "<style scoped>\n",
       "    .dataframe tbody tr th:only-of-type {\n",
       "        vertical-align: middle;\n",
       "    }\n",
       "\n",
       "    .dataframe tbody tr th {\n",
       "        vertical-align: top;\n",
       "    }\n",
       "\n",
       "    .dataframe thead th {\n",
       "        text-align: right;\n",
       "    }\n",
       "</style>\n",
       "<table border=\"1\" class=\"dataframe\">\n",
       "  <thead>\n",
       "    <tr style=\"text-align: right;\">\n",
       "      <th></th>\n",
       "      <th>Unnamed: 0</th>\n",
       "      <th>gender</th>\n",
       "      <th>text</th>\n",
       "    </tr>\n",
       "  </thead>\n",
       "  <tbody>\n",
       "    <tr>\n",
       "      <th>0</th>\n",
       "      <td>0</td>\n",
       "      <td>male</td>\n",
       "      <td>I'm going to Glastonbury.</td>\n",
       "    </tr>\n",
       "    <tr>\n",
       "      <th>1</th>\n",
       "      <td>1</td>\n",
       "      <td>male</td>\n",
       "      <td>Lets see, what did I do on Monday...</td>\n",
       "    </tr>\n",
       "    <tr>\n",
       "      <th>2</th>\n",
       "      <td>2</td>\n",
       "      <td>female</td>\n",
       "      <td>Listening to music from the 60s and 70s...</td>\n",
       "    </tr>\n",
       "    <tr>\n",
       "      <th>3</th>\n",
       "      <td>3</td>\n",
       "      <td>female</td>\n",
       "      <td>8:26 a.m. Sunday, Day 97. Daylight ...</td>\n",
       "    </tr>\n",
       "    <tr>\n",
       "      <th>4</th>\n",
       "      <td>4</td>\n",
       "      <td>female</td>\n",
       "      <td>'Do you want me to tell you s...</td>\n",
       "    </tr>\n",
       "  </tbody>\n",
       "</table>\n",
       "</div>"
      ],
      "text/plain": [
       "   Unnamed: 0  gender                                               text\n",
       "0           0    male                 I'm going to Glastonbury.         \n",
       "1           1    male               Lets see, what did I do on Monday...\n",
       "2           2  female         Listening to music from the 60s and 70s...\n",
       "3           3  female             8:26 a.m. Sunday, Day 97. Daylight ...\n",
       "4           4  female                   'Do you want me to tell you s..."
      ]
     },
     "execution_count": 10,
     "metadata": {},
     "output_type": "execute_result"
    }
   ],
   "source": [
    "df_train = pd.read_csv('train.csv')\n",
    "df_train.head()"
   ]
  },
  {
   "cell_type": "code",
   "execution_count": 16,
   "metadata": {},
   "outputs": [
    {
     "data": {
      "text/html": [
       "<div>\n",
       "<style scoped>\n",
       "    .dataframe tbody tr th:only-of-type {\n",
       "        vertical-align: middle;\n",
       "    }\n",
       "\n",
       "    .dataframe tbody tr th {\n",
       "        vertical-align: top;\n",
       "    }\n",
       "\n",
       "    .dataframe thead th {\n",
       "        text-align: right;\n",
       "    }\n",
       "</style>\n",
       "<table border=\"1\" class=\"dataframe\">\n",
       "  <thead>\n",
       "    <tr style=\"text-align: right;\">\n",
       "      <th></th>\n",
       "      <th>Unnamed: 0</th>\n",
       "      <th>gender</th>\n",
       "      <th>text</th>\n",
       "    </tr>\n",
       "  </thead>\n",
       "  <tbody>\n",
       "    <tr>\n",
       "      <th>0</th>\n",
       "      <td>0</td>\n",
       "      <td>female</td>\n",
       "      <td>ok, comments are fixed.</td>\n",
       "    </tr>\n",
       "    <tr>\n",
       "      <th>1</th>\n",
       "      <td>1</td>\n",
       "      <td>female</td>\n",
       "      <td>Just remembered.......now i've stopped ...</td>\n",
       "    </tr>\n",
       "    <tr>\n",
       "      <th>2</th>\n",
       "      <td>2</td>\n",
       "      <td>male</td>\n",
       "      <td>To take this test, kindly visit  urlLin...</td>\n",
       "    </tr>\n",
       "    <tr>\n",
       "      <th>3</th>\n",
       "      <td>3</td>\n",
       "      <td>male</td>\n",
       "      <td>Suggested topics for Bloggs  1) researc...</td>\n",
       "    </tr>\n",
       "    <tr>\n",
       "      <th>4</th>\n",
       "      <td>4</td>\n",
       "      <td>male</td>\n",
       "      <td>Foo.  Yesterday was quite scary. We had...</td>\n",
       "    </tr>\n",
       "  </tbody>\n",
       "</table>\n",
       "</div>"
      ],
      "text/plain": [
       "   Unnamed: 0  gender                                               text\n",
       "0           0  female                      ok, comments are fixed.      \n",
       "1           1  female         Just remembered.......now i've stopped ...\n",
       "2           2    male         To take this test, kindly visit  urlLin...\n",
       "3           3    male         Suggested topics for Bloggs  1) researc...\n",
       "4           4    male         Foo.  Yesterday was quite scary. We had..."
      ]
     },
     "execution_count": 16,
     "metadata": {},
     "output_type": "execute_result"
    }
   ],
   "source": [
    "df_test = pd.read_csv('test.csv')\n",
    "df_test.head()"
   ]
  },
  {
   "cell_type": "markdown",
   "metadata": {},
   "source": [
    "Попробуем превзойти бейзлайн с помощью наивного байеса:"
   ]
  },
  {
   "cell_type": "code",
   "execution_count": 22,
   "metadata": {},
   "outputs": [
    {
     "name": "stdout",
     "output_type": "stream",
     "text": [
      "feature matrix shape (10900, 67074)\n",
      "train 0.8342201834862385\n",
      "test 0.6309611151870873\n"
     ]
    }
   ],
   "source": [
    "from sklearn import metrics\n",
    "from sklearn import model_selection\n",
    "from sklearn.feature_extraction.text import TfidfVectorizer\n",
    "from sklearn.preprocessing import LabelEncoder\n",
    "from sklearn.naive_bayes import MultinomialNB\n",
    "\n",
    "vec = TfidfVectorizer(lowercase=True, analyzer='word', ngram_range=(1, 1), norm=None, use_idf=False, binary=True)\n",
    "X = vec.fit_transform(df_train.text)\n",
    "print('feature matrix shape', X.shape)\n",
    "\n",
    "# encode class labels\n",
    "label_enc = LabelEncoder().fit(df_train.gender)\n",
    "y_train = label_enc.transform(df_train.gender)\n",
    "\n",
    "# fit our prediction model\n",
    "model = MultinomialNB(alpha=1.0)\n",
    "model.fit(X, y_train)\n",
    "print('train', metrics.accuracy_score(y_train, model.predict(X)))\n",
    "\n",
    "# perfomance on test dataset\n",
    "X_test = vec.transform(df_test.text)\n",
    "y_pred = model.predict(X_test)\n",
    "y_test = label_enc.transform(df_test.gender)\n",
    "print('test', metrics.accuracy_score(y_test, model.predict(X_test)))"
   ]
  },
  {
   "cell_type": "markdown",
   "metadata": {},
   "source": [
    "Наивный байес не превзошел бейзлайн, попробуем логистическую регрессию:"
   ]
  },
  {
   "cell_type": "code",
   "execution_count": 26,
   "metadata": {},
   "outputs": [
    {
     "name": "stdout",
     "output_type": "stream",
     "text": [
      "feature matrix shape (10900, 45291)\n",
      "train 0.7722018348623854\n",
      "test 0.644534115920763\n"
     ]
    }
   ],
   "source": [
    "from sklearn.linear_model import LogisticRegression\n",
    "\n",
    "SEED = 1337\n",
    "vec = TfidfVectorizer(lowercase=True, analyzer='char', ngram_range=(3, 3), norm='l2', use_idf=True, smooth_idf=True)\n",
    "X = vec.fit_transform(df_train.text)\n",
    "print('feature matrix shape', X.shape)\n",
    "\n",
    "#encode labels\n",
    "label_enc = LabelEncoder().fit(df_train.gender)\n",
    "y_train = label_enc.transform(df_train.gender)\n",
    "\n",
    "model = LogisticRegression(random_state=SEED)\n",
    "model.fit(X, y_train)\n",
    "print('train', metrics.accuracy_score(y_train, model.predict(X)))\n",
    "\n",
    "# perfomance on test dataset\n",
    "X_test = vec.transform(df_test.text)\n",
    "y_pred = model.predict(X_test)\n",
    "y_test = label_enc.transform(df_test.gender)\n",
    "print('test', metrics.accuracy_score(y_test, model.predict(X_test)))"
   ]
  },
  {
   "cell_type": "code",
   "execution_count": null,
   "metadata": {},
   "outputs": [],
   "source": []
  }
 ],
 "metadata": {
  "kernelspec": {
   "display_name": "Python 3",
   "language": "python",
   "name": "python3"
  },
  "language_info": {
   "codemirror_mode": {
    "name": "ipython",
    "version": 3
   },
   "file_extension": ".py",
   "mimetype": "text/x-python",
   "name": "python",
   "nbconvert_exporter": "python",
   "pygments_lexer": "ipython3",
   "version": "3.6.4"
  }
 },
 "nbformat": 4,
 "nbformat_minor": 2
}
